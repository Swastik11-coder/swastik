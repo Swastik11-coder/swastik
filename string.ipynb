{
 "cells": [
  {
   "cell_type": "code",
   "execution_count": 1,
   "id": "3e07afbe-f7bc-44fa-a0c4-9bd0e054bdc6",
   "metadata": {},
   "outputs": [
    {
     "name": "stdout",
     "output_type": "stream",
     "text": [
      "12\n"
     ]
    },
    {
     "data": {
      "text/plain": [
       "str"
      ]
     },
     "execution_count": 1,
     "metadata": {},
     "output_type": "execute_result"
    }
   ],
   "source": [
    "#creating a string\n",
    "\n",
    "s = 'string string'\n",
    "\n",
    "s1 = \"string hello world\"\n",
    "\n",
    "s2 = \"I don't like it\"\n",
    "\n",
    "s3 = \"\"\"Hii select one option\n",
    "\n",
    "1. cms to ft\n",
    "2. km to miles\n",
    "3. USD to INR\n",
    "4. Exit\n",
    "\"\"\"\n",
    "s4 = str(12)\n",
    "print(s4)\n",
    "type(s4)"
   ]
  },
  {
   "cell_type": "code",
   "execution_count": 4,
   "id": "34cabf05-0e1a-49ab-a123-c1f719b92c0b",
   "metadata": {},
   "outputs": [
    {
     "data": {
      "text/plain": [
       "'d'"
      ]
     },
     "execution_count": 4,
     "metadata": {},
     "output_type": "execute_result"
    }
   ],
   "source": [
    "# Accessing substring from string\n",
    "\n",
    "# indexing  + ve indexing\n",
    "\n",
    "str1 = \"hello world\"\n",
    "str1[0]\n",
    "\n",
    "# - ve indexing\n",
    "str1[-1]"
   ]
  },
  {
   "cell_type": "code",
   "execution_count": 21,
   "id": "21110599-3531-485b-b0b5-5b3e128f6796",
   "metadata": {},
   "outputs": [
    {
     "data": {
      "text/plain": [
       "'hello'"
      ]
     },
     "execution_count": 21,
     "metadata": {},
     "output_type": "execute_result"
    }
   ],
   "source": [
    "# slicing\n",
    "\n",
    "str2 = \"my name is chetan\"\n",
    "str2[11:17:2]\n",
    "\n",
    "str3 = \"hello world\"\n",
    "str3[0:]\n",
    "str3[::-1]\n",
    "str3[-11:-6]\n"
   ]
  },
  {
   "cell_type": "markdown",
   "id": "83867b57-1ede-4b1b-b1d3-47a52dc55cc5",
   "metadata": {},
   "source": [
    "operations on string"
   ]
  },
  {
   "cell_type": "code",
   "execution_count": 29,
   "id": "fedfee55-cc85-46b9-bd0b-b5ec9fd2bf57",
   "metadata": {},
   "outputs": [
    {
     "name": "stdout",
     "output_type": "stream",
     "text": [
      "delhimumbai\n",
      " A A A A A A A A A A A A A A A A A A A A A A A A A A A A A A\n"
     ]
    }
   ],
   "source": [
    "# artmatical operation on string \n",
    "print(\"delhi\" +  \"mumbai\")\n",
    "\n",
    "print(\" A\"*30)"
   ]
  },
  {
   "cell_type": "code",
   "execution_count": 43,
   "id": "2af610f5-2eae-4572-9295-f12c8dcf5a3d",
   "metadata": {},
   "outputs": [
    {
     "data": {
      "text/plain": [
       "False"
      ]
     },
     "execution_count": 43,
     "metadata": {},
     "output_type": "execute_result"
    }
   ],
   "source": [
    "# relational operation on string  > < = != \n",
    "\n",
    "\"Mumbai\" > \"Delhi\"\n",
    "\"pune\" > \"mumbai\"\n",
    "\"pune\" > \"Pune\"\n",
    "112 > 80\n",
    "\"pune\" == \"Pune\""
   ]
  },
  {
   "cell_type": "code",
   "execution_count": 39,
   "id": "41a1f8d5-4acc-4d33-8b35-bb9a9b801223",
   "metadata": {},
   "outputs": [],
   "source": [
    "a = 5\n",
    "b = 5"
   ]
  },
  {
   "cell_type": "code",
   "execution_count": 40,
   "id": "f8ac7398-0ec0-4d25-9a69-eab1f08894c2",
   "metadata": {},
   "outputs": [
    {
     "data": {
      "text/plain": [
       "True"
      ]
     },
     "execution_count": 40,
     "metadata": {},
     "output_type": "execute_result"
    }
   ],
   "source": [
    "a is b"
   ]
  },
  {
   "cell_type": "code",
   "execution_count": 41,
   "id": "617dd0e8-c3d3-49fa-ae69-4a190cd85a2c",
   "metadata": {},
   "outputs": [
    {
     "data": {
      "text/plain": [
       "140710861456296"
      ]
     },
     "execution_count": 41,
     "metadata": {},
     "output_type": "execute_result"
    }
   ],
   "source": [
    "id(a)"
   ]
  },
  {
   "cell_type": "code",
   "execution_count": 42,
   "id": "9e55f88f-71d7-448b-912e-96ef54b3c360",
   "metadata": {},
   "outputs": [
    {
     "data": {
      "text/plain": [
       "140710861456296"
      ]
     },
     "execution_count": 42,
     "metadata": {},
     "output_type": "execute_result"
    }
   ],
   "source": [
    "id(b)"
   ]
  },
  {
   "cell_type": "code",
   "execution_count": 44,
   "id": "09105c28-4654-4ed7-b2f5-dae077f9f1d4",
   "metadata": {},
   "outputs": [
    {
     "data": {
      "text/plain": [
       "'mumbai'"
      ]
     },
     "execution_count": 44,
     "metadata": {},
     "output_type": "execute_result"
    }
   ],
   "source": [
    "\"pune\" and \"mumbai\""
   ]
  },
  {
   "cell_type": "code",
   "execution_count": 45,
   "id": "1b9b676a-1440-4530-af3f-56d8000588f0",
   "metadata": {},
   "outputs": [
    {
     "data": {
      "text/plain": [
       "'pune'"
      ]
     },
     "execution_count": 45,
     "metadata": {},
     "output_type": "execute_result"
    }
   ],
   "source": [
    "\"mumbai\" and \"pune\""
   ]
  },
  {
   "cell_type": "code",
   "execution_count": 46,
   "id": "77e30fd4-7d43-472f-a703-d9450cddcf46",
   "metadata": {},
   "outputs": [
    {
     "data": {
      "text/plain": [
       "'pune'"
      ]
     },
     "execution_count": 46,
     "metadata": {},
     "output_type": "execute_result"
    }
   ],
   "source": [
    "\"Pune\" and \"pune\""
   ]
  },
  {
   "cell_type": "code",
   "execution_count": 47,
   "id": "0994fec5-65f3-43b1-9133-0acad077a980",
   "metadata": {},
   "outputs": [
    {
     "data": {
      "text/plain": [
       "'mumbai'"
      ]
     },
     "execution_count": 47,
     "metadata": {},
     "output_type": "execute_result"
    }
   ],
   "source": [
    "\"mumbai\" or \"pune\""
   ]
  },
  {
   "cell_type": "code",
   "execution_count": 48,
   "id": "523bcd60-21ec-47c5-86c3-adb027cdbb1a",
   "metadata": {},
   "outputs": [
    {
     "data": {
      "text/plain": [
       "'Pune'"
      ]
     },
     "execution_count": 48,
     "metadata": {},
     "output_type": "execute_result"
    }
   ],
   "source": [
    "\"Pune\" or \"pune\""
   ]
  },
  {
   "cell_type": "code",
   "execution_count": 50,
   "id": "757f0acd-9b52-4745-be7f-e35859dcd31e",
   "metadata": {},
   "outputs": [
    {
     "data": {
      "text/plain": [
       "''"
      ]
     },
     "execution_count": 50,
     "metadata": {},
     "output_type": "execute_result"
    }
   ],
   "source": [
    "\"\" and \"pune\""
   ]
  },
  {
   "cell_type": "code",
   "execution_count": 2,
   "id": "3b7f8ce9-5b9c-401a-98d2-cf2406edf5f8",
   "metadata": {},
   "outputs": [
    {
     "name": "stdout",
     "output_type": "stream",
     "text": [
      "hello world"
     ]
    }
   ],
   "source": [
    "# loop on string\n",
    "\n",
    "s = \"hello world\"\n",
    "\n",
    "for i in s:\n",
    "    print(i,end=\"\")"
   ]
  },
  {
   "cell_type": "code",
   "execution_count": 57,
   "id": "3b357d03-c175-40c5-ac98-5ff077977a19",
   "metadata": {},
   "outputs": [
    {
     "data": {
      "text/plain": [
       "True"
      ]
     },
     "execution_count": 57,
     "metadata": {},
     "output_type": "execute_result"
    }
   ],
   "source": [
    "s = \"hello world\"\n",
    "\"h\"  in s"
   ]
  },
  {
   "cell_type": "code",
   "execution_count": 6,
   "id": "6cca41f1-17b9-4c09-bbec-13253280576b",
   "metadata": {},
   "outputs": [
    {
     "name": "stdout",
     "output_type": "stream",
     "text": [
      "11\n",
      "w\n",
      " \n",
      "[' ', 'd', 'e', 'h', 'l', 'l', 'l', 'o', 'o', 'r', 'w']\n"
     ]
    }
   ],
   "source": [
    "# common funtions\n",
    "\n",
    "# len\n",
    "# max\n",
    "# min\n",
    "# sorted\n",
    "\n",
    "s = \"hello world\"\n",
    "print(len(s))\n",
    "print(max(s))\n",
    "print(min(s))\n",
    "print(sorted(s))"
   ]
  },
  {
   "cell_type": "code",
   "execution_count": 12,
   "id": "8c735393-7260-430f-80d6-5d8385fb8246",
   "metadata": {},
   "outputs": [
    {
     "name": "stdout",
     "output_type": "stream",
     "text": [
      "Hello world\n",
      "Hello World\n",
      "HELLO WORLD\n",
      "hello world\n",
      "HeLLo wORLd\n"
     ]
    }
   ],
   "source": [
    "# capitalize , Title, upper, lower, swapcase\n",
    "s = \"hEllO WorlD\"\n",
    "\n",
    "print(s.capitalize())\n",
    "print(s.title())\n",
    "print(s.upper())\n",
    "print(s.lower())\n",
    "print(s.swapcase())"
   ]
  },
  {
   "cell_type": "code",
   "execution_count": 18,
   "id": "c68c7185-ccf4-4ca4-b88f-2d1868b97d31",
   "metadata": {},
   "outputs": [
    {
     "name": "stdout",
     "output_type": "stream",
     "text": [
      "3\n",
      "-1\n",
      "2\n"
     ]
    }
   ],
   "source": [
    "# count, find, index\n",
    "\n",
    "s = \"hello world\"\n",
    "\n",
    "print(s.count(\"l\"))\n",
    "print(s.find(\"x\"))\n",
    "print(s.index(\"l\"))"
   ]
  },
  {
   "cell_type": "code",
   "execution_count": 22,
   "id": "9a47bf56-4fae-4f3e-976e-56efc409a479",
   "metadata": {},
   "outputs": [
    {
     "data": {
      "text/plain": [
       "True"
      ]
     },
     "execution_count": 22,
     "metadata": {},
     "output_type": "execute_result"
    }
   ],
   "source": [
    "# startswith , endswith\n",
    "\n",
    "s = \"hello world\"\n",
    "\n",
    "s.startswith(\"o\")\n",
    "s.endswith(\"d\")"
   ]
  },
  {
   "cell_type": "code",
   "execution_count": 33,
   "id": "aa452698-0858-49e3-966d-6569ff2a3dec",
   "metadata": {},
   "outputs": [
    {
     "data": {
      "text/plain": [
       "True"
      ]
     },
     "execution_count": 33,
     "metadata": {},
     "output_type": "execute_result"
    }
   ],
   "source": [
    "# isalnum, isilpha , isdigit, isidentifier\n",
    "\n",
    "\"ABC123\".isalnum()\n",
    "\n",
    "\"hello\".isalpha()\n",
    "\n",
    "\"123435423465\".isdigit()\n",
    "\n",
    "\"num_2\".isidentifier()"
   ]
  },
  {
   "cell_type": "code",
   "execution_count": 36,
   "id": "9e252728-d479-493e-8e5d-b7cadf6cbfbb",
   "metadata": {},
   "outputs": [
    {
     "data": {
      "text/plain": [
       "['my', 'name', 'is', 'chetan']"
      ]
     },
     "execution_count": 36,
     "metadata": {},
     "output_type": "execute_result"
    }
   ],
   "source": [
    "# split, join\n",
    "\n",
    "\"my name is chetan\".split(\" \")"
   ]
  },
  {
   "cell_type": "code",
   "execution_count": 40,
   "id": "171c0d1f-3147-4132-b608-1f9dfbc90a5f",
   "metadata": {},
   "outputs": [
    {
     "data": {
      "text/plain": [
       "'my name is chetan'"
      ]
     },
     "execution_count": 40,
     "metadata": {},
     "output_type": "execute_result"
    }
   ],
   "source": [
    "\" \".join(['my', 'name', 'is', 'chetan'])"
   ]
  },
  {
   "cell_type": "code",
   "execution_count": 43,
   "id": "b50a40d2-3188-4c04-b66a-801b76d6367d",
   "metadata": {},
   "outputs": [
    {
     "data": {
      "text/plain": [
       "'my name is nitish'"
      ]
     },
     "execution_count": 43,
     "metadata": {},
     "output_type": "execute_result"
    }
   ],
   "source": [
    "# replace \n",
    "\n",
    "\"my name is chetan\".replace(\"chetan\",\"nitish\")"
   ]
  },
  {
   "cell_type": "code",
   "execution_count": 46,
   "id": "8169bb7f-0ca9-481f-95e6-614d531d0bc7",
   "metadata": {},
   "outputs": [
    {
     "data": {
      "text/plain": [
       "'chetan'"
      ]
     },
     "execution_count": 46,
     "metadata": {},
     "output_type": "execute_result"
    }
   ],
   "source": [
    "# strip\n",
    "\"chetan                     \".strip()"
   ]
  },
  {
   "cell_type": "code",
   "execution_count": 47,
   "id": "989c5b19-d499-4ed4-b441-6740876adea8",
   "metadata": {},
   "outputs": [
    {
     "data": {
      "text/plain": [
       "'chetan'"
      ]
     },
     "execution_count": 47,
     "metadata": {},
     "output_type": "execute_result"
    }
   ],
   "source": [
    "\"     chetan\".lstrip()"
   ]
  },
  {
   "cell_type": "code",
   "execution_count": 48,
   "id": "51645bf4-af9b-419d-ab1c-ca66c2da5742",
   "metadata": {},
   "outputs": [
    {
     "data": {
      "text/plain": [
       "'chetan'"
      ]
     },
     "execution_count": 48,
     "metadata": {},
     "output_type": "execute_result"
    }
   ],
   "source": [
    "\"chetan         \".rstrip()"
   ]
  },
  {
   "cell_type": "code",
   "execution_count": 50,
   "id": "3011ac44-7f5f-4ea4-9b48-c9f6482f935d",
   "metadata": {},
   "outputs": [
    {
     "name": "stdin",
     "output_type": "stream",
     "text": [
      "enter your string hello world\n"
     ]
    },
    {
     "name": "stdout",
     "output_type": "stream",
     "text": [
      "length of string is  11\n"
     ]
    }
   ],
   "source": [
    "# find the length of given string (given by user) \n",
    "# without using len() function\n",
    "\n",
    "str1 = input(\"enter your string\")\n",
    "\n",
    "count = 0\n",
    "for i in str1:\n",
    "    count += 1\n",
    "print(\"length of string is \",count)"
   ]
  },
  {
   "cell_type": "code",
   "execution_count": 51,
   "id": "e91c25f1-47f3-43d5-a88a-e1294b0c34ab",
   "metadata": {},
   "outputs": [
    {
     "name": "stdin",
     "output_type": "stream",
     "text": [
      "enter your mail_id  chetan24jagtap@gmail.com\n"
     ]
    },
    {
     "name": "stdout",
     "output_type": "stream",
     "text": [
      "chetan24jagtap\n"
     ]
    }
   ],
   "source": [
    "# extract userid from given mail i'd\n",
    "# eg if the mail is chetan24jagtap@gmail.com\n",
    "# them user name shoud be \"chetan24jagtap\"\n",
    "\n",
    "mail_id = input(\"enter your mail_id \")\n",
    "poss = mail_id.index(\"@\")\n",
    "print(mail_id[0:poss])"
   ]
  },
  {
   "cell_type": "code",
   "execution_count": 53,
   "id": "8175b080-2f71-41ac-8250-95be7c5108cc",
   "metadata": {},
   "outputs": [
    {
     "name": "stdin",
     "output_type": "stream",
     "text": [
      "enter your string  hello how are you\n",
      "what would you like to search  h\n"
     ]
    },
    {
     "name": "stdout",
     "output_type": "stream",
     "text": [
      "frequency of your char is  2\n"
     ]
    }
   ],
   "source": [
    "# count the frequency of perticular character in provided string\n",
    "# Eg \"hello how are you\" is the string, \n",
    "# the frequecy of \"h\" in this string is 2\n",
    "# without using count function\n",
    "\n",
    "s = input(\"enter your string \")\n",
    "term = input(\"what would you like to search \")\n",
    "\n",
    "counter = 0 \n",
    "for i in s:\n",
    "    if i == term:\n",
    "        counter += 1\n",
    "print(\"frequency of your char is \",counter)\n"
   ]
  },
  {
   "cell_type": "code",
   "execution_count": 54,
   "id": "d28970c2-3ab4-4a01-9f26-b3e14b463fd6",
   "metadata": {},
   "outputs": [
    {
     "name": "stdin",
     "output_type": "stream",
     "text": [
      "enter your string  hello how are you\n",
      "what you want to remove  h\n"
     ]
    },
    {
     "name": "stdout",
     "output_type": "stream",
     "text": [
      "ello ow are you\n"
     ]
    }
   ],
   "source": [
    "# write a program which can remove \n",
    "# a perticular character from string\n",
    "\n",
    "s = input(\"enter your string \")\n",
    "term = input(\"what you want to remove \")\n",
    "\n",
    "result = \"\"\n",
    "\n",
    "for i in s:\n",
    "    if i != term:\n",
    "        result = result + i \n",
    "print(result)\n",
    "        "
   ]
  },
  {
   "cell_type": "code",
   "execution_count": 55,
   "id": "8ccc44b7-feca-410f-872d-00815329a987",
   "metadata": {},
   "outputs": [
    {
     "name": "stdout",
     "output_type": "stream",
     "text": [
      "h\n",
      "e\n",
      "l\n",
      "l\n",
      "o\n",
      " \n",
      "h\n",
      "o\n",
      "w\n",
      " \n",
      "a\n",
      "r\n",
      "e\n",
      " \n",
      "y\n",
      "o\n",
      "u\n"
     ]
    }
   ],
   "source": [
    "for i in s:\n",
    "    print(i)"
   ]
  },
  {
   "cell_type": "code",
   "execution_count": null,
   "id": "82473b86-095a-4051-a587-a76fac799d73",
   "metadata": {},
   "outputs": [],
   "source": []
  }
 ],
 "metadata": {
  "kernelspec": {
   "display_name": "Python 3 (ipykernel)",
   "language": "python",
   "name": "python3"
  },
  "language_info": {
   "codemirror_mode": {
    "name": "ipython",
    "version": 3
   },
   "file_extension": ".py",
   "mimetype": "text/x-python",
   "name": "python",
   "nbconvert_exporter": "python",
   "pygments_lexer": "ipython3",
   "version": "3.11.7"
  }
 },
 "nbformat": 4,
 "nbformat_minor": 5
}
